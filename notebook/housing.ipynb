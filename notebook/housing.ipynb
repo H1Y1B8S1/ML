{
 "cells": [
  {
   "cell_type": "code",
   "execution_count": null,
   "id": "3b792e88",
   "metadata": {},
   "outputs": [],
   "source": [
    "import pandas as pd "
   ]
  },
  {
   "cell_type": "code",
   "execution_count": null,
   "id": "fabcb24f",
   "metadata": {},
   "outputs": [],
   "source": [
    "df = pd.read_csv(\"C:\\SINH\\☆Work☆\\ML\\Hands-on ML\\DataSet\\housing.csv\")\n",
    "print(df.shape)\n",
    "df.count()"
   ]
  },
  {
   "cell_type": "code",
   "execution_count": null,
   "id": "a353c5c1",
   "metadata": {},
   "outputs": [],
   "source": [
    "df.head(10)"
   ]
  },
  {
   "cell_type": "code",
   "execution_count": null,
   "id": "6d07214a",
   "metadata": {},
   "outputs": [],
   "source": [
    "df.info()"
   ]
  },
  {
   "cell_type": "markdown",
   "id": "f2ce1a33",
   "metadata": {},
   "source": [
    "## filling the data "
   ]
  },
  {
   "cell_type": "code",
   "execution_count": null,
   "id": "0046987e",
   "metadata": {},
   "outputs": [],
   "source": [
    "# df.total_bedrooms.fillna(df.total_bedrooms.median(),inplace=True)"
   ]
  },
  {
   "cell_type": "code",
   "execution_count": null,
   "id": "57503bfb",
   "metadata": {},
   "outputs": [],
   "source": [
    "df.ocean_proximity.value_counts()\n",
    "# df['ocean_proximity'].value_counts() # both are same i think"
   ]
  },
  {
   "cell_type": "code",
   "execution_count": null,
   "id": "49ed42a7",
   "metadata": {},
   "outputs": [],
   "source": [
    "df.describe()"
   ]
  },
  {
   "cell_type": "markdown",
   "id": "06ded4d7",
   "metadata": {},
   "source": [
    "### histograms\n",
    "will show which values repeted highly.\n",
    "insite about value repetation"
   ]
  },
  {
   "cell_type": "code",
   "execution_count": null,
   "id": "0eb3486c",
   "metadata": {},
   "outputs": [],
   "source": [
    "# jupyter own backend,so it'll render within\n",
    "%matplotlib inline  \n",
    "\n",
    "import matplotlib.pyplot as plt\n",
    "# df.median_income.hist(color = \"red\",bins = 100,figsize=(20,15),lw=0)\n",
    "# plt.show()  # this is optional"
   ]
  },
  {
   "cell_type": "markdown",
   "id": "cf31a79f",
   "metadata": {},
   "source": [
    "# Creating a test set function "
   ]
  },
  {
   "cell_type": "code",
   "execution_count": null,
   "id": "49970271",
   "metadata": {},
   "outputs": [],
   "source": [
    "# import numpy as np\n",
    "\n",
    "# def split_train_test(data,test_ratio):\n",
    "#     np.random.seed(42) #it always generates the same shuffled indices\n",
    "#     shuffled_indices = np.random.permutation(len(data))\n",
    "#     test_set_size = int(len(data) * test_ratio)\n",
    "#     test_indices = shuffled_indices[:test_set_size]\n",
    "#     train_indices = shuffled_indices[test_set_size:]\n",
    "#     return data.iloc[train_indices],data.iloc[test_indices]"
   ]
  },
  {
   "cell_type": "code",
   "execution_count": null,
   "id": "703a2bf6",
   "metadata": {},
   "outputs": [],
   "source": [
    "# train_set , test_set = split_train_test(df,0.2)\n",
    "# len(train_set),len(test_set)"
   ]
  },
  {
   "cell_type": "markdown",
   "id": "4d1c0807",
   "metadata": {},
   "source": [
    "## With the help of sklearn"
   ]
  },
  {
   "cell_type": "code",
   "execution_count": null,
   "id": "0d5f38b6",
   "metadata": {},
   "outputs": [],
   "source": [
    "from sklearn.model_selection import train_test_split\n",
    "\n",
    "train_set,test_set = train_test_split(df,test_size=0.2,random_state=42)\n",
    "len(train_set),len(test_set)"
   ]
  },
  {
   "cell_type": "markdown",
   "id": "45a857f8",
   "metadata": {},
   "source": [
    "## stratified sampling\n",
    "### first need to create an income category attribute based on median_income"
   ]
  },
  {
   "cell_type": "code",
   "execution_count": null,
   "id": "5c55e1e0",
   "metadata": {},
   "outputs": [],
   "source": [
    "import numpy as np\n",
    "df['income_cate'] = pd.cut(df.median_income,bins=[0.,1.5,3.0,4.5,6., np.inf],labels=[1,2,3,4,5])\n",
    "# df.income_cate.head(10)"
   ]
  },
  {
   "cell_type": "code",
   "execution_count": null,
   "id": "a65fb63d",
   "metadata": {},
   "outputs": [],
   "source": [
    "# df.income_cate.hist()\n",
    "# plt.show()"
   ]
  },
  {
   "cell_type": "markdown",
   "id": "f3ac4597",
   "metadata": {},
   "source": [
    "### Now you are ready to do stratified sampling based on the income category. Use Scikit-Learn’s StratifiedShuffleSplit class"
   ]
  },
  {
   "cell_type": "code",
   "execution_count": null,
   "id": "ba933f88",
   "metadata": {},
   "outputs": [],
   "source": [
    "from sklearn.model_selection import StratifiedShuffleSplit\n",
    "\n",
    "split = StratifiedShuffleSplit(n_splits=1,test_size=0.2,random_state=42)\n",
    "for train_index ,test_index in split.split(df,df.income_cate):\n",
    "    strat_train_set = df.loc[train_index]\n",
    "    strat_test_set = df.loc[test_index]    \n",
    "    \n",
    "# strat_test_set.income_cate.value_counts() / len(strat_test_set)\n"
   ]
  },
  {
   "cell_type": "markdown",
   "id": "1243960a",
   "metadata": {},
   "source": [
    "### remove the income_cat attribute so the data is back to its original state"
   ]
  },
  {
   "cell_type": "code",
   "execution_count": null,
   "id": "f07c2627",
   "metadata": {},
   "outputs": [],
   "source": [
    "for set_ in (strat_train_set,strat_test_set):\n",
    "    set_.drop(\"income_cate\",axis=1,inplace=True)"
   ]
  },
  {
   "cell_type": "markdown",
   "id": "bff1dc58",
   "metadata": {},
   "source": [
    "#### Let’s create a copy so you can play with it without harming the training set"
   ]
  },
  {
   "cell_type": "code",
   "execution_count": null,
   "id": "5d01d934",
   "metadata": {},
   "outputs": [],
   "source": [
    "df1 =  strat_train_set.copy() \n",
    "df1.count()"
   ]
  },
  {
   "cell_type": "markdown",
   "id": "772b2d5f",
   "metadata": {},
   "source": [
    "## Visualizing Geographical Data\n",
    "#### Since there is geographical information (latitude and longitude), it is a good idea to create a scatterplot of all districts to visualize the data "
   ]
  },
  {
   "cell_type": "code",
   "execution_count": null,
   "id": "3603f972",
   "metadata": {},
   "outputs": [],
   "source": [
    "# df1.plot(kind='scatter',x='longitude',y='latitude',alpha=0.1)\n",
    "# plt.show()"
   ]
  },
  {
   "cell_type": "code",
   "execution_count": null,
   "id": "f6977691",
   "metadata": {},
   "outputs": [],
   "source": [
    "# df1.plot(kind='scatter',x = 'longitude', y ='latitude',alpha=0.4,\n",
    "#         s=df1.population/100,label='population',figsize=(10,7),\n",
    "#         c='median_house_value',cmap=plt.get_cmap('jet'),colorbar=True,)\n",
    "# plt.show()"
   ]
  },
  {
   "cell_type": "markdown",
   "id": "1a98df52",
   "metadata": {},
   "source": [
    "## Correlations\n",
    "#### Since the dataset is not too large, we can easily compute the standard correlation coeffcient (also called Pearson’s r) between every pair of attributes using the corr() method:"
   ]
  },
  {
   "cell_type": "code",
   "execution_count": null,
   "id": "11d82f67",
   "metadata": {},
   "outputs": [],
   "source": [
    "corr_matrix = df1.corr()"
   ]
  },
  {
   "cell_type": "code",
   "execution_count": null,
   "id": "f1134c14",
   "metadata": {},
   "outputs": [],
   "source": [
    "corr_matrix.median_house_value.sort_values(ascending=False)"
   ]
  },
  {
   "cell_type": "markdown",
   "id": "aa983d06",
   "metadata": {},
   "source": [
    "### Another way to check for correlation between attributes is to use Pandas’ \"scatter_matrix function\"."
   ]
  },
  {
   "cell_type": "code",
   "execution_count": null,
   "id": "46a725bb",
   "metadata": {},
   "outputs": [],
   "source": [
    "from pandas.plotting import scatter_matrix\n",
    "attributes = [\"median_house_value\", \"median_income\", \"total_rooms\",\"housing_median_age\"]\n",
    "# scatter_matrix(df1[attributes],figsize=(12,8))\n",
    "# plt.show()"
   ]
  },
  {
   "cell_type": "code",
   "execution_count": null,
   "id": "6dcc3d49",
   "metadata": {},
   "outputs": [],
   "source": [
    "# df1.plot(kind='scatter',x = 'median_income',y='median_house_value',alpha=0.1)"
   ]
  },
  {
   "cell_type": "markdown",
   "id": "d4c48fdc",
   "metadata": {},
   "source": [
    "### Adding new attributes \n",
    "#### 1.\"rooms_per_household\"\n",
    "#### 2.\"bedrooms_per_room\"\n",
    "#### 3.\"population_per_household\""
   ]
  },
  {
   "cell_type": "code",
   "execution_count": null,
   "id": "9224c3cd",
   "metadata": {},
   "outputs": [],
   "source": [
    "df1['rooms_per_household'] = df1.total_rooms/df1.households\n",
    "df1['bedrooms_per_room'] = df1.total_bedrooms/df1.total_rooms\n",
    "df1['population_per_household'] = df1.population/df1.households\n"
   ]
  },
  {
   "cell_type": "code",
   "execution_count": null,
   "id": "e2a9916b",
   "metadata": {
    "scrolled": true
   },
   "outputs": [],
   "source": [
    "corr_matrix = df1.corr()\n",
    "corr_matrix.median_house_value.sort_values(ascending=False)"
   ]
  },
  {
   "cell_type": "markdown",
   "id": "06cf0b5d",
   "metadata": {},
   "source": [
    "## Prepare the Data for ML Algo "
   ]
  },
  {
   "cell_type": "code",
   "execution_count": null,
   "id": "c5d0ee8a",
   "metadata": {},
   "outputs": [],
   "source": [
    "df1 = strat_train_set.drop('median_house_value',axis=1)\n",
    "df1_labels = strat_train_set.median_house_value.copy()\n"
   ]
  },
  {
   "cell_type": "markdown",
   "id": "2797ee43",
   "metadata": {},
   "source": [
    "## Data cleaning"
   ]
  },
  {
   "cell_type": "markdown",
   "id": "eaf2fb42",
   "metadata": {},
   "source": [
    "#### 1 Get rid of the corresponding districts......   or\n",
    "#### 2 Get rid of the whole attribute......   or \n",
    "#### 3 Set the values to some value (zero, the mean, the median, mode,etc.)."
   ]
  },
  {
   "cell_type": "code",
   "execution_count": null,
   "id": "deeb1c4f",
   "metadata": {},
   "outputs": [],
   "source": [
    "# df1.dropna(subset=['total_bedrooms']) # option 1\n",
    "# df1.drop(\"total_bedrooms\",axis=1)     # option 2\n",
    "# median = df1.total_bedrooms.median()    # option 3\n",
    "# df1.total_bedrooms.fillna(median,inplace=True)"
   ]
  },
  {
   "cell_type": "markdown",
   "id": "ee14c901",
   "metadata": {},
   "source": [
    "### with help of sklearn SimpleImputer"
   ]
  },
  {
   "cell_type": "code",
   "execution_count": null,
   "id": "ce6cbb8d",
   "metadata": {},
   "outputs": [],
   "source": [
    "from sklearn.impute import SimpleImputer\n",
    "imputer = SimpleImputer(strategy='median')\n"
   ]
  },
  {
   "cell_type": "markdown",
   "id": "4f5cc659",
   "metadata": {},
   "source": [
    "<!-- Since the median can only be computed on numerical attributes, we need to create a copy of the data without the text attribute \"ocean_proximity\". -->"
   ]
  },
  {
   "cell_type": "markdown",
   "id": "c5f13ea4",
   "metadata": {},
   "source": [
    "Since the median can only be computed on numerical attributes, we need to create a copy of the data without the text attribute \"ocean_proximity\"."
   ]
  },
  {
   "cell_type": "code",
   "execution_count": null,
   "id": "51242158",
   "metadata": {},
   "outputs": [],
   "source": [
    "df_num = df1.drop(\"ocean_proximity\",axis=1)\n",
    "imputer.fit(df_num)\n",
    "df_num.count()"
   ]
  },
  {
   "cell_type": "code",
   "execution_count": null,
   "id": "b5a6033c",
   "metadata": {},
   "outputs": [],
   "source": [
    "imputer.statistics_"
   ]
  },
  {
   "cell_type": "code",
   "execution_count": null,
   "id": "1caeab8a",
   "metadata": {},
   "outputs": [],
   "source": [
    "df_num.median().values"
   ]
  },
  {
   "cell_type": "markdown",
   "id": "64977ee7",
   "metadata": {},
   "source": [
    "## Handling Text and Categorical Attributes"
   ]
  },
  {
   "cell_type": "code",
   "execution_count": null,
   "id": "684ceed2",
   "metadata": {},
   "outputs": [],
   "source": []
  }
 ],
 "metadata": {
  "kernelspec": {
   "display_name": "Python 3 (ipykernel)",
   "language": "python",
   "name": "python3"
  },
  "language_info": {
   "codemirror_mode": {
    "name": "ipython",
    "version": 3
   },
   "file_extension": ".py",
   "mimetype": "text/x-python",
   "name": "python",
   "nbconvert_exporter": "python",
   "pygments_lexer": "ipython3",
   "version": "3.10.7"
  }
 },
 "nbformat": 4,
 "nbformat_minor": 5
}
